{
 "cells": [
  {
   "cell_type": "markdown",
   "metadata": {},
   "source": [
    "# Computer Exercise 3"
   ]
  },
  {
   "cell_type": "code",
   "execution_count": 1,
   "metadata": {},
   "outputs": [],
   "source": [
    "import cv2\n",
    "import numpy as np\n",
    "from matplotlib import pyplot as plt\n",
    "import copy"
   ]
  },
  {
   "cell_type": "code",
   "execution_count": 2,
   "metadata": {},
   "outputs": [],
   "source": [
    "import copy\n",
    "import scipy.io as sio"
   ]
  },
  {
   "cell_type": "code",
   "execution_count": 3,
   "metadata": {},
   "outputs": [
    {
     "name": "stdout",
     "output_type": "stream",
     "text": [
      "Singular Values for K1:\n",
      "[[1.15572864 0.         0.         0.         0.        ]\n",
      " [0.         0.         0.         0.         0.        ]\n",
      " [0.         0.         0.         0.         0.        ]\n",
      " [0.         0.         0.         0.         0.        ]\n",
      " [0.         0.         0.         0.         0.        ]]\n",
      "Kernel is separable\n",
      "\n",
      "Singular Values for K2:\n",
      "[[2.39244588 0.         0.         0.         0.        ]\n",
      " [0.         0.98749722 0.         0.         0.        ]\n",
      " [0.         0.         0.67563127 0.         0.        ]\n",
      " [0.         0.         0.         0.13996899 0.        ]\n",
      " [0.         0.         0.         0.         0.07304454]]\n",
      "Kernel is not separable\n",
      "\n",
      "Singular Values for K3:\n",
      "[[3.6587224  0.         0.         0.         0.        ]\n",
      " [0.         0.29429662 0.         0.         0.        ]\n",
      " [0.         0.         0.         0.         0.        ]\n",
      " [0.         0.         0.         0.         0.        ]\n",
      " [0.         0.         0.         0.         0.        ]]\n",
      "Kernel is not separable\n",
      "\n"
     ]
    }
   ],
   "source": [
    "mdict = sio.loadmat(\"./hw2_data/are_these_separable_filters.mat\")\n",
    "K1 = mdict[\"K1\"]\n",
    "K2 = mdict[\"K2\"]\n",
    "K3 = mdict[\"K3\"]\n",
    "\n",
    "def zeroSmallNumbers(arr):\n",
    "    newarr = []\n",
    "    count = 0\n",
    "    for item in arr:\n",
    "        if np.abs(item) < 0.000000000001:\n",
    "            newarr.append(0)\n",
    "        else:\n",
    "            newarr.append(item)\n",
    "            count += 1\n",
    "    return newarr, count\n",
    "\n",
    "\n",
    "U1, s1, V1 = np.linalg.svd(K1, full_matrices=True)\n",
    "U2, s2, V2 = np.linalg.svd(K2, full_matrices=True)\n",
    "U3, s3, V3 = np.linalg.svd(K3, full_matrices=True)\n",
    "\n",
    "singular1, count1 = zeroSmallNumbers(s1)\n",
    "singular2, count2 = zeroSmallNumbers(s2)\n",
    "singular3, count3 = zeroSmallNumbers(s3)\n",
    "\n",
    "print(\"Singular Values for K1:\\n\" + str(np.diag(singular1)))\n",
    "print(\"Kernel is separable\\n\" if count1 == 1 else \"Kernel is not separable\\n\")\n",
    "print(\"Singular Values for K2:\\n\" + str(np.diag(singular2)))\n",
    "print(\"Kernel is separable\\n\" if count2 == 1 else \"Kernel is not separable\\n\")\n",
    "print(\"Singular Values for K3:\\n\" + str(np.diag(singular3)))\n",
    "print(\"Kernel is separable\\n\" if count3 == 1 else \"Kernel is not separable\\n\")"
   ]
  }
 ],
 "metadata": {
  "kernelspec": {
   "display_name": "Python 3",
   "language": "python",
   "name": "python3"
  },
  "language_info": {
   "codemirror_mode": {
    "name": "ipython",
    "version": 3
   },
   "file_extension": ".py",
   "mimetype": "text/x-python",
   "name": "python",
   "nbconvert_exporter": "python",
   "pygments_lexer": "ipython3",
   "version": "3.7.7"
  }
 },
 "nbformat": 4,
 "nbformat_minor": 4
}
